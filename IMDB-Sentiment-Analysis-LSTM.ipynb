{
 "cells": [
  {
   "cell_type": "code",
   "execution_count": 1,
   "id": "ebf8b35c-aee1-4b46-a275-63cf0f57d9fd",
   "metadata": {},
   "outputs": [],
   "source": [
    "import numpy as np\n",
    "import pandas as pd\n",
    "from sklearn.model_selection import train_test_split\n",
    "from sklearn.preprocessing import LabelEncoder\n",
    "from tensorflow.keras.preprocessing.text import Tokenizer\n",
    "from tensorflow.keras.preprocessing.sequence import pad_sequences\n",
    "from tensorflow.keras.utils import to_categorical"
   ]
  },
  {
   "cell_type": "code",
   "execution_count": 2,
   "id": "f62633f7-81a7-461a-ae25-8e3758c1411a",
   "metadata": {},
   "outputs": [],
   "source": [
    "# Load the data\n",
    "train_df = pd.read_csv('/Masters/ANN/Assignment/IMDB Movie Review/train.tsv', sep='\\t')\n",
    "test_df = pd.read_csv('/Masters/ANN/Assignment/IMDB Movie Review/test.tsv', sep='\\t')"
   ]
  },
  {
   "cell_type": "code",
   "execution_count": 3,
   "id": "e28d8c34-74b4-4e9e-acbb-5f5e4e3bbea3",
   "metadata": {},
   "outputs": [],
   "source": [
    "train_df = train_df.dropna()\n",
    "test_df = test_df.dropna()"
   ]
  },
  {
   "cell_type": "code",
   "execution_count": 4,
   "id": "0b38b94b-dfde-47ad-b61e-3c4f8ad0cad4",
   "metadata": {},
   "outputs": [],
   "source": [
    "# Load stopwords\n",
    "with open('/Masters/ANN/Assignment/IMDB Movie Review/stopwords.txt', 'r') as f:\n",
    "    stopwords = set(f.read().splitlines())"
   ]
  },
  {
   "cell_type": "code",
   "execution_count": 5,
   "id": "7fe70d50-9085-4b44-94e5-0b2f17fff9f4",
   "metadata": {},
   "outputs": [
    {
     "name": "stderr",
     "output_type": "stream",
     "text": [
      "[nltk_data] Downloading package punkt to\n",
      "[nltk_data]     C:\\Users\\nhyuj\\AppData\\Roaming\\nltk_data...\n",
      "[nltk_data]   Package punkt is already up-to-date!\n",
      "[nltk_data] Downloading package wordnet to\n",
      "[nltk_data]     C:\\Users\\nhyuj\\AppData\\Roaming\\nltk_data...\n",
      "[nltk_data]   Package wordnet is already up-to-date!\n",
      "[nltk_data] Downloading package averaged_perceptron_tagger to\n",
      "[nltk_data]     C:\\Users\\nhyuj\\AppData\\Roaming\\nltk_data...\n",
      "[nltk_data]   Package averaged_perceptron_tagger is already up-to-\n",
      "[nltk_data]       date!\n"
     ]
    },
    {
     "data": {
      "text/plain": [
       "True"
      ]
     },
     "execution_count": 5,
     "metadata": {},
     "output_type": "execute_result"
    }
   ],
   "source": [
    "import nltk\n",
    "from nltk.corpus import wordnet\n",
    "from nltk.stem import WordNetLemmatizer\n",
    "from nltk.tokenize import word_tokenize\n",
    "import re\n",
    "\n",
    "# Download necessary NLTK data\n",
    "nltk.download('punkt')\n",
    "nltk.download('wordnet')\n",
    "nltk.download('averaged_perceptron_tagger')"
   ]
  },
  {
   "cell_type": "code",
   "execution_count": 6,
   "id": "0b8016bb-eeeb-459c-8bb1-f89db4230f51",
   "metadata": {},
   "outputs": [],
   "source": [
    "# Initialize lemmatizer\n",
    "lemmatizer = WordNetLemmatizer()"
   ]
  },
  {
   "cell_type": "code",
   "execution_count": 7,
   "id": "2ae0f59b-914a-4756-b2fa-b9e85ceb4dd7",
   "metadata": {},
   "outputs": [],
   "source": [
    "# Function to get the part of speech tag for lemmatization\n",
    "def get_wordnet_pos(word):\n",
    "    tag = nltk.pos_tag([word])[0][1][0].upper()\n",
    "    tag_dict = {\n",
    "        'J': wordnet.ADJ,\n",
    "        'N': wordnet.NOUN,\n",
    "        'V': wordnet.VERB,\n",
    "        'R': wordnet.ADV\n",
    "    }\n",
    "    return tag_dict.get(tag, wordnet.NOUN)"
   ]
  },
  {
   "cell_type": "code",
   "execution_count": 8,
   "id": "06a81acf-8a2d-412f-a903-4dcd25f9ebff",
   "metadata": {},
   "outputs": [],
   "source": [
    "# Text preprocessing function\n",
    "def preprocess_text(text):\n",
    "    # Remove special characters and lowercase\n",
    "    text = re.sub(r'[^a-zA-Z\\s]', '', text).lower()\n",
    "    # Tokenize\n",
    "    words = word_tokenize(text)\n",
    "    # Remove stopwords and lemmatize\n",
    "    words = [lemmatizer.lemmatize(word, get_wordnet_pos(word)) for word in words if word not in stopwords]\n",
    "    return ' '.join(words)"
   ]
  },
  {
   "cell_type": "code",
   "execution_count": 9,
   "id": "09698909-b206-466b-9701-be720331ceb0",
   "metadata": {},
   "outputs": [
    {
     "name": "stdout",
     "output_type": "stream",
     "text": [
      "dont like doesnt make sense wont watch\n"
     ]
    }
   ],
   "source": [
    "example = \"I don't like this movie, it doesn't make sense. he won't watch it again in 2024 @ !\"\n",
    "print(preprocess_text(example))"
   ]
  },
  {
   "cell_type": "code",
   "execution_count": 10,
   "id": "cf63b313-2df5-4c2a-8251-d5f033d4d6ba",
   "metadata": {},
   "outputs": [
    {
     "name": "stderr",
     "output_type": "stream",
     "text": [
      "100%|████████████████████████████████████████████████████████████████████████████| 32745/32745 [18:42<00:00, 29.17it/s]\n",
      "100%|██████████████████████████████████████████████████████████████████████████████| 2681/2681 [01:07<00:00, 39.52it/s]\n"
     ]
    }
   ],
   "source": [
    "from tqdm import tqdm\n",
    "tqdm.pandas()\n",
    "\n",
    "# Apply preprocessing\n",
    "train_df['cleaned_review'] = train_df['review'].progress_apply(preprocess_text)\n",
    "test_df['cleaned_review'] = test_df['review'].progress_apply(preprocess_text)"
   ]
  },
  {
   "cell_type": "code",
   "execution_count": 11,
   "id": "56c0029a-98a4-45e2-86ae-a415aaf0ed1c",
   "metadata": {},
   "outputs": [],
   "source": [
    "# Tokenize the cleaned reviews\n",
    "tokenizer = Tokenizer(num_words=10000)  # Use the top 10,000 words\n",
    "tokenizer.fit_on_texts(train_df['cleaned_review'])\n",
    "\n",
    "# Convert text to sequences\n",
    "train_sequences = tokenizer.texts_to_sequences(train_df['cleaned_review'])\n",
    "test_sequences = tokenizer.texts_to_sequences(test_df['cleaned_review'])\n",
    "\n",
    "# Define maximum sequence length\n",
    "max_length = 100  # You can adjust this value based on your dataset\n",
    "\n",
    "# Pad the sequences to ensure uniform length\n",
    "X_train = pad_sequences(train_sequences, maxlen=max_length)\n",
    "X_test = pad_sequences(test_sequences, maxlen=max_length)"
   ]
  },
  {
   "cell_type": "code",
   "execution_count": 12,
   "id": "3c1ea5e6-0ad0-4d3a-b4c0-34f33981929a",
   "metadata": {},
   "outputs": [],
   "source": [
    "# Encode sentiment labels to integers\n",
    "label_encoder = LabelEncoder()\n",
    "y_train = label_encoder.fit_transform(train_df['sentiment'])\n",
    "y_test = label_encoder.transform(test_df['sentiment'])\n",
    "\n",
    "# One-hot encode the labels\n",
    "y_train = to_categorical(y_train, num_classes=3)\n",
    "y_test = to_categorical(y_test, num_classes=3)"
   ]
  },
  {
   "cell_type": "code",
   "execution_count": 13,
   "id": "d83dc05d-f49d-4d74-a881-0c7f047620fd",
   "metadata": {},
   "outputs": [
    {
     "name": "stderr",
     "output_type": "stream",
     "text": [
      "C:\\Users\\nhyuj\\AppData\\Local\\Programs\\Python\\Python312\\Lib\\site-packages\\keras\\src\\layers\\core\\embedding.py:90: UserWarning: Argument `input_length` is deprecated. Just remove it.\n",
      "  warnings.warn(\n"
     ]
    }
   ],
   "source": [
    "from tensorflow.keras.models import Sequential\n",
    "from tensorflow.keras.layers import Embedding, LSTM, Dense, Dropout\n",
    "from tensorflow.keras.optimizers import Adam\n",
    "\n",
    "# Define the model\n",
    "model = Sequential([\n",
    "    Embedding(input_dim=10000, output_dim=128, input_length=max_length),\n",
    "    LSTM(64, return_sequences=True),\n",
    "    Dropout(0.6),\n",
    "    LSTM(32),\n",
    "    Dropout(0.6),\n",
    "    Dense(3, activation='softmax')\n",
    "])\n",
    "\n",
    "# Compile the model\n",
    "model.compile(loss='categorical_crossentropy', optimizer=Adam(learning_rate=0.001), metrics=['accuracy'])"
   ]
  },
  {
   "cell_type": "code",
   "execution_count": 14,
   "id": "971a8b6d-a012-4f83-8c32-b2875a8f771c",
   "metadata": {},
   "outputs": [
    {
     "name": "stdout",
     "output_type": "stream",
     "text": [
      "Epoch 1/50\n",
      "\u001b[1m307/307\u001b[0m \u001b[32m━━━━━━━━━━━━━━━━━━━━\u001b[0m\u001b[37m\u001b[0m \u001b[1m31s\u001b[0m 91ms/step - accuracy: 0.4583 - loss: 1.0143 - val_accuracy: 0.6145 - val_loss: 0.8263\n",
      "Epoch 2/50\n",
      "\u001b[1m307/307\u001b[0m \u001b[32m━━━━━━━━━━━━━━━━━━━━\u001b[0m\u001b[37m\u001b[0m \u001b[1m27s\u001b[0m 89ms/step - accuracy: 0.6703 - loss: 0.7500 - val_accuracy: 0.6123 - val_loss: 0.8204\n",
      "Epoch 3/50\n",
      "\u001b[1m307/307\u001b[0m \u001b[32m━━━━━━━━━━━━━━━━━━━━\u001b[0m\u001b[37m\u001b[0m \u001b[1m26s\u001b[0m 85ms/step - accuracy: 0.7435 - loss: 0.6308 - val_accuracy: 0.6082 - val_loss: 0.8721\n",
      "Epoch 4/50\n",
      "\u001b[1m307/307\u001b[0m \u001b[32m━━━━━━━━━━━━━━━━━━━━\u001b[0m\u001b[37m\u001b[0m \u001b[1m28s\u001b[0m 91ms/step - accuracy: 0.7994 - loss: 0.5252 - val_accuracy: 0.5882 - val_loss: 0.9888\n",
      "Epoch 5/50\n",
      "\u001b[1m307/307\u001b[0m \u001b[32m━━━━━━━━━━━━━━━━━━━━\u001b[0m\u001b[37m\u001b[0m \u001b[1m26s\u001b[0m 86ms/step - accuracy: 0.8489 - loss: 0.4206 - val_accuracy: 0.5815 - val_loss: 1.1031\n",
      "Epoch 6/50\n",
      "\u001b[1m307/307\u001b[0m \u001b[32m━━━━━━━━━━━━━━━━━━━━\u001b[0m\u001b[37m\u001b[0m \u001b[1m29s\u001b[0m 94ms/step - accuracy: 0.8888 - loss: 0.3336 - val_accuracy: 0.5733 - val_loss: 1.3192\n",
      "Epoch 7/50\n",
      "\u001b[1m307/307\u001b[0m \u001b[32m━━━━━━━━━━━━━━━━━━━━\u001b[0m\u001b[37m\u001b[0m \u001b[1m28s\u001b[0m 91ms/step - accuracy: 0.9124 - loss: 0.2689 - val_accuracy: 0.5644 - val_loss: 1.5362\n",
      "Epoch 8/50\n",
      "\u001b[1m307/307\u001b[0m \u001b[32m━━━━━━━━━━━━━━━━━━━━\u001b[0m\u001b[37m\u001b[0m \u001b[1m27s\u001b[0m 89ms/step - accuracy: 0.9317 - loss: 0.2265 - val_accuracy: 0.5505 - val_loss: 1.6088\n",
      "Epoch 9/50\n",
      "\u001b[1m307/307\u001b[0m \u001b[32m━━━━━━━━━━━━━━━━━━━━\u001b[0m\u001b[37m\u001b[0m \u001b[1m27s\u001b[0m 88ms/step - accuracy: 0.9439 - loss: 0.1836 - val_accuracy: 0.5557 - val_loss: 1.7823\n",
      "Epoch 10/50\n",
      "\u001b[1m307/307\u001b[0m \u001b[32m━━━━━━━━━━━━━━━━━━━━\u001b[0m\u001b[37m\u001b[0m \u001b[1m28s\u001b[0m 91ms/step - accuracy: 0.9582 - loss: 0.1366 - val_accuracy: 0.5457 - val_loss: 1.9757\n",
      "Epoch 11/50\n",
      "\u001b[1m307/307\u001b[0m \u001b[32m━━━━━━━━━━━━━━━━━━━━\u001b[0m\u001b[37m\u001b[0m \u001b[1m28s\u001b[0m 90ms/step - accuracy: 0.9589 - loss: 0.1446 - val_accuracy: 0.5650 - val_loss: 2.0448\n",
      "Epoch 12/50\n",
      "\u001b[1m307/307\u001b[0m \u001b[32m━━━━━━━━━━━━━━━━━━━━\u001b[0m\u001b[37m\u001b[0m \u001b[1m28s\u001b[0m 92ms/step - accuracy: 0.9560 - loss: 0.1494 - val_accuracy: 0.5473 - val_loss: 2.0533\n",
      "Epoch 13/50\n",
      "\u001b[1m307/307\u001b[0m \u001b[32m━━━━━━━━━━━━━━━━━━━━\u001b[0m\u001b[37m\u001b[0m \u001b[1m30s\u001b[0m 97ms/step - accuracy: 0.9737 - loss: 0.0921 - val_accuracy: 0.5510 - val_loss: 2.2783\n",
      "Epoch 14/50\n",
      "\u001b[1m307/307\u001b[0m \u001b[32m━━━━━━━━━━━━━━━━━━━━\u001b[0m\u001b[37m\u001b[0m \u001b[1m28s\u001b[0m 92ms/step - accuracy: 0.9772 - loss: 0.0788 - val_accuracy: 0.5315 - val_loss: 2.6410\n",
      "Epoch 15/50\n",
      "\u001b[1m307/307\u001b[0m \u001b[32m━━━━━━━━━━━━━━━━━━━━\u001b[0m\u001b[37m\u001b[0m \u001b[1m28s\u001b[0m 91ms/step - accuracy: 0.9735 - loss: 0.0871 - val_accuracy: 0.5498 - val_loss: 2.5536\n",
      "Epoch 16/50\n",
      "\u001b[1m307/307\u001b[0m \u001b[32m━━━━━━━━━━━━━━━━━━━━\u001b[0m\u001b[37m\u001b[0m \u001b[1m28s\u001b[0m 92ms/step - accuracy: 0.9814 - loss: 0.0677 - val_accuracy: 0.5423 - val_loss: 2.4112\n",
      "Epoch 17/50\n",
      "\u001b[1m307/307\u001b[0m \u001b[32m━━━━━━━━━━━━━━━━━━━━\u001b[0m\u001b[37m\u001b[0m \u001b[1m28s\u001b[0m 91ms/step - accuracy: 0.9808 - loss: 0.0715 - val_accuracy: 0.5521 - val_loss: 2.6638\n",
      "Epoch 18/50\n",
      "\u001b[1m307/307\u001b[0m \u001b[32m━━━━━━━━━━━━━━━━━━━━\u001b[0m\u001b[37m\u001b[0m \u001b[1m29s\u001b[0m 95ms/step - accuracy: 0.9841 - loss: 0.0591 - val_accuracy: 0.5428 - val_loss: 2.8455\n",
      "Epoch 19/50\n",
      "\u001b[1m307/307\u001b[0m \u001b[32m━━━━━━━━━━━━━━━━━━━━\u001b[0m\u001b[37m\u001b[0m \u001b[1m31s\u001b[0m 101ms/step - accuracy: 0.9849 - loss: 0.0550 - val_accuracy: 0.5428 - val_loss: 2.8130\n",
      "Epoch 20/50\n",
      "\u001b[1m307/307\u001b[0m \u001b[32m━━━━━━━━━━━━━━━━━━━━\u001b[0m\u001b[37m\u001b[0m \u001b[1m30s\u001b[0m 96ms/step - accuracy: 0.9904 - loss: 0.0426 - val_accuracy: 0.5430 - val_loss: 3.0823\n",
      "Epoch 21/50\n",
      "\u001b[1m307/307\u001b[0m \u001b[32m━━━━━━━━━━━━━━━━━━━━\u001b[0m\u001b[37m\u001b[0m \u001b[1m29s\u001b[0m 93ms/step - accuracy: 0.9862 - loss: 0.0524 - val_accuracy: 0.5354 - val_loss: 3.1552\n",
      "Epoch 22/50\n",
      "\u001b[1m307/307\u001b[0m \u001b[32m━━━━━━━━━━━━━━━━━━━━\u001b[0m\u001b[37m\u001b[0m \u001b[1m34s\u001b[0m 110ms/step - accuracy: 0.9867 - loss: 0.0506 - val_accuracy: 0.5437 - val_loss: 3.0596\n",
      "Epoch 23/50\n",
      "\u001b[1m307/307\u001b[0m \u001b[32m━━━━━━━━━━━━━━━━━━━━\u001b[0m\u001b[37m\u001b[0m \u001b[1m32s\u001b[0m 105ms/step - accuracy: 0.9876 - loss: 0.0447 - val_accuracy: 0.5441 - val_loss: 3.0634\n",
      "Epoch 24/50\n",
      "\u001b[1m307/307\u001b[0m \u001b[32m━━━━━━━━━━━━━━━━━━━━\u001b[0m\u001b[37m\u001b[0m \u001b[1m29s\u001b[0m 96ms/step - accuracy: 0.9906 - loss: 0.0338 - val_accuracy: 0.5408 - val_loss: 3.1398\n",
      "Epoch 25/50\n",
      "\u001b[1m307/307\u001b[0m \u001b[32m━━━━━━━━━━━━━━━━━━━━\u001b[0m\u001b[37m\u001b[0m \u001b[1m32s\u001b[0m 105ms/step - accuracy: 0.9920 - loss: 0.0329 - val_accuracy: 0.5437 - val_loss: 3.0683\n",
      "Epoch 26/50\n",
      "\u001b[1m307/307\u001b[0m \u001b[32m━━━━━━━━━━━━━━━━━━━━\u001b[0m\u001b[37m\u001b[0m \u001b[1m29s\u001b[0m 95ms/step - accuracy: 0.9909 - loss: 0.0368 - val_accuracy: 0.5450 - val_loss: 3.4390\n",
      "Epoch 27/50\n",
      "\u001b[1m307/307\u001b[0m \u001b[32m━━━━━━━━━━━━━━━━━━━━\u001b[0m\u001b[37m\u001b[0m \u001b[1m29s\u001b[0m 96ms/step - accuracy: 0.9898 - loss: 0.0389 - val_accuracy: 0.5427 - val_loss: 3.3587\n",
      "Epoch 28/50\n",
      "\u001b[1m307/307\u001b[0m \u001b[32m━━━━━━━━━━━━━━━━━━━━\u001b[0m\u001b[37m\u001b[0m \u001b[1m30s\u001b[0m 98ms/step - accuracy: 0.9942 - loss: 0.0241 - val_accuracy: 0.5476 - val_loss: 3.5724\n",
      "Epoch 29/50\n",
      "\u001b[1m307/307\u001b[0m \u001b[32m━━━━━━━━━━━━━━━━━━━━\u001b[0m\u001b[37m\u001b[0m \u001b[1m32s\u001b[0m 105ms/step - accuracy: 0.9899 - loss: 0.0357 - val_accuracy: 0.5473 - val_loss: 3.5740\n",
      "Epoch 30/50\n",
      "\u001b[1m307/307\u001b[0m \u001b[32m━━━━━━━━━━━━━━━━━━━━\u001b[0m\u001b[37m\u001b[0m \u001b[1m30s\u001b[0m 97ms/step - accuracy: 0.9911 - loss: 0.0366 - val_accuracy: 0.5468 - val_loss: 3.5462\n",
      "Epoch 31/50\n",
      "\u001b[1m307/307\u001b[0m \u001b[32m━━━━━━━━━━━━━━━━━━━━\u001b[0m\u001b[37m\u001b[0m \u001b[1m32s\u001b[0m 104ms/step - accuracy: 0.9927 - loss: 0.0321 - val_accuracy: 0.5420 - val_loss: 3.4253\n",
      "Epoch 32/50\n",
      "\u001b[1m307/307\u001b[0m \u001b[32m━━━━━━━━━━━━━━━━━━━━\u001b[0m\u001b[37m\u001b[0m \u001b[1m30s\u001b[0m 97ms/step - accuracy: 0.9927 - loss: 0.0281 - val_accuracy: 0.5415 - val_loss: 3.5410\n",
      "Epoch 33/50\n",
      "\u001b[1m307/307\u001b[0m \u001b[32m━━━━━━━━━━━━━━━━━━━━\u001b[0m\u001b[37m\u001b[0m \u001b[1m31s\u001b[0m 101ms/step - accuracy: 0.9871 - loss: 0.0570 - val_accuracy: 0.5448 - val_loss: 3.6111\n",
      "Epoch 34/50\n",
      "\u001b[1m307/307\u001b[0m \u001b[32m━━━━━━━━━━━━━━━━━━━━\u001b[0m\u001b[37m\u001b[0m \u001b[1m29s\u001b[0m 95ms/step - accuracy: 0.9953 - loss: 0.0202 - val_accuracy: 0.5458 - val_loss: 3.4616\n",
      "Epoch 35/50\n",
      "\u001b[1m307/307\u001b[0m \u001b[32m━━━━━━━━━━━━━━━━━━━━\u001b[0m\u001b[37m\u001b[0m \u001b[1m33s\u001b[0m 109ms/step - accuracy: 0.9945 - loss: 0.0211 - val_accuracy: 0.5376 - val_loss: 3.8099\n",
      "Epoch 36/50\n",
      "\u001b[1m307/307\u001b[0m \u001b[32m━━━━━━━━━━━━━━━━━━━━\u001b[0m\u001b[37m\u001b[0m \u001b[1m33s\u001b[0m 108ms/step - accuracy: 0.9929 - loss: 0.0249 - val_accuracy: 0.5531 - val_loss: 3.6487\n",
      "Epoch 37/50\n",
      "\u001b[1m307/307\u001b[0m \u001b[32m━━━━━━━━━━━━━━━━━━━━\u001b[0m\u001b[37m\u001b[0m \u001b[1m29s\u001b[0m 95ms/step - accuracy: 0.9920 - loss: 0.0284 - val_accuracy: 0.5328 - val_loss: 3.7007\n",
      "Epoch 38/50\n",
      "\u001b[1m307/307\u001b[0m \u001b[32m━━━━━━━━━━━━━━━━━━━━\u001b[0m\u001b[37m\u001b[0m \u001b[1m30s\u001b[0m 97ms/step - accuracy: 0.9953 - loss: 0.0195 - val_accuracy: 0.5341 - val_loss: 4.0165\n",
      "Epoch 39/50\n",
      "\u001b[1m307/307\u001b[0m \u001b[32m━━━━━━━━━━━━━━━━━━━━\u001b[0m\u001b[37m\u001b[0m \u001b[1m33s\u001b[0m 106ms/step - accuracy: 0.9946 - loss: 0.0195 - val_accuracy: 0.5358 - val_loss: 3.2771\n",
      "Epoch 40/50\n",
      "\u001b[1m307/307\u001b[0m \u001b[32m━━━━━━━━━━━━━━━━━━━━\u001b[0m\u001b[37m\u001b[0m \u001b[1m33s\u001b[0m 109ms/step - accuracy: 0.9737 - loss: 0.1031 - val_accuracy: 0.5444 - val_loss: 2.8931\n",
      "Epoch 41/50\n",
      "\u001b[1m307/307\u001b[0m \u001b[32m━━━━━━━━━━━━━━━━━━━━\u001b[0m\u001b[37m\u001b[0m \u001b[1m30s\u001b[0m 98ms/step - accuracy: 0.9931 - loss: 0.0286 - val_accuracy: 0.5466 - val_loss: 3.3805\n",
      "Epoch 42/50\n",
      "\u001b[1m307/307\u001b[0m \u001b[32m━━━━━━━━━━━━━━━━━━━━\u001b[0m\u001b[37m\u001b[0m \u001b[1m30s\u001b[0m 97ms/step - accuracy: 0.9973 - loss: 0.0133 - val_accuracy: 0.5382 - val_loss: 3.7531\n",
      "Epoch 43/50\n",
      "\u001b[1m307/307\u001b[0m \u001b[32m━━━━━━━━━━━━━━━━━━━━\u001b[0m\u001b[37m\u001b[0m \u001b[1m30s\u001b[0m 98ms/step - accuracy: 0.9965 - loss: 0.0165 - val_accuracy: 0.5518 - val_loss: 3.8959\n",
      "Epoch 44/50\n",
      "\u001b[1m307/307\u001b[0m \u001b[32m━━━━━━━━━━━━━━━━━━━━\u001b[0m\u001b[37m\u001b[0m \u001b[1m31s\u001b[0m 100ms/step - accuracy: 0.9926 - loss: 0.0318 - val_accuracy: 0.5430 - val_loss: 3.7207\n",
      "Epoch 45/50\n",
      "\u001b[1m307/307\u001b[0m \u001b[32m━━━━━━━━━━━━━━━━━━━━\u001b[0m\u001b[37m\u001b[0m \u001b[1m32s\u001b[0m 105ms/step - accuracy: 0.9974 - loss: 0.0157 - val_accuracy: 0.5383 - val_loss: 4.1107\n",
      "Epoch 46/50\n",
      "\u001b[1m307/307\u001b[0m \u001b[32m━━━━━━━━━━━━━━━━━━━━\u001b[0m\u001b[37m\u001b[0m \u001b[1m31s\u001b[0m 101ms/step - accuracy: 0.9969 - loss: 0.0138 - val_accuracy: 0.5411 - val_loss: 4.2351\n",
      "Epoch 47/50\n",
      "\u001b[1m307/307\u001b[0m \u001b[32m━━━━━━━━━━━━━━━━━━━━\u001b[0m\u001b[37m\u001b[0m \u001b[1m32s\u001b[0m 104ms/step - accuracy: 0.9963 - loss: 0.0158 - val_accuracy: 0.5460 - val_loss: 3.9438\n",
      "Epoch 48/50\n",
      "\u001b[1m307/307\u001b[0m \u001b[32m━━━━━━━━━━━━━━━━━━━━\u001b[0m\u001b[37m\u001b[0m \u001b[1m34s\u001b[0m 112ms/step - accuracy: 0.9967 - loss: 0.0120 - val_accuracy: 0.5402 - val_loss: 4.0307\n",
      "Epoch 49/50\n",
      "\u001b[1m307/307\u001b[0m \u001b[32m━━━━━━━━━━━━━━━━━━━━\u001b[0m\u001b[37m\u001b[0m \u001b[1m39s\u001b[0m 126ms/step - accuracy: 0.9967 - loss: 0.0165 - val_accuracy: 0.5434 - val_loss: 4.0781\n",
      "Epoch 50/50\n",
      "\u001b[1m307/307\u001b[0m \u001b[32m━━━━━━━━━━━━━━━━━━━━\u001b[0m\u001b[37m\u001b[0m \u001b[1m33s\u001b[0m 107ms/step - accuracy: 0.9960 - loss: 0.0170 - val_accuracy: 0.5346 - val_loss: 4.0201\n"
     ]
    }
   ],
   "source": [
    "# Train the model\n",
    "history = model.fit(X_train, y_train, epochs=50, batch_size=64, validation_split=0.4)"
   ]
  },
  {
   "cell_type": "code",
   "execution_count": 18,
   "id": "71b8909a-3616-4a2e-bf1e-e09b81ab1632",
   "metadata": {},
   "outputs": [
    {
     "name": "stdout",
     "output_type": "stream",
     "text": [
      "\u001b[1m84/84\u001b[0m \u001b[32m━━━━━━━━━━━━━━━━━━━━\u001b[0m\u001b[37m\u001b[0m \u001b[1m1s\u001b[0m 15ms/step - accuracy: 0.4649 - loss: 4.8085\n",
      "Test Accuracy: 0.4812\n"
     ]
    }
   ],
   "source": [
    "# Evaluate the model\n",
    "test_loss, test_acc = model.evaluate(X_test, y_test)\n",
    "print(f'Test Accuracy: {test_acc:.4f}')"
   ]
  },
  {
   "cell_type": "code",
   "execution_count": 19,
   "id": "c912de8d-4717-4a11-bf1e-6c6a049b824e",
   "metadata": {},
   "outputs": [
    {
     "data": {
      "image/png": "[encoded data removed]",
      "text/plain": [
       "<Figure size 1200x500 with 2 Axes>"
      ]
     },
     "metadata": {},
     "output_type": "display_data"
    }
   ],
   "source": [
    "import matplotlib.pyplot as plt\n",
    "\n",
    "# Extract loss and accuracy from history object\n",
    "train_loss = history.history['loss']\n",
    "val_loss = history.history['val_loss']\n",
    "train_accuracy = history.history['accuracy']\n",
    "val_accuracy = history.history['val_accuracy']\n",
    "\n",
    "# Plot training & validation loss\n",
    "plt.figure(figsize=(12, 5))\n",
    "\n",
    "plt.subplot(1, 2, 1)\n",
    "plt.plot(train_loss, label='Train Loss')\n",
    "plt.plot(val_loss, label='Validation Loss')\n",
    "plt.title('Training and Validation Loss')\n",
    "plt.xlabel('Epochs')\n",
    "plt.ylabel('Loss')\n",
    "plt.legend()\n",
    "\n",
    "# Plot training & validation accuracy\n",
    "plt.subplot(1, 2, 2)\n",
    "plt.plot(train_accuracy, label='Train Accuracy')\n",
    "plt.plot(val_accuracy, label='Validation Accuracy')\n",
    "plt.title('Training and Validation Accuracy')\n",
    "plt.xlabel('Epochs')\n",
    "plt.ylabel('Accuracy')\n",
    "plt.legend()\n",
    "\n",
    "plt.show()"
   ]
  },
  {
   "cell_type": "code",
   "execution_count": 20,
   "id": "1f0068a3-95d3-4125-9acd-c837aefb2c65",
   "metadata": {},
   "outputs": [
    {
     "name": "stdout",
     "output_type": "stream",
     "text": [
      "\u001b[1m1/1\u001b[0m \u001b[32m━━━━━━━━━━━━━━━━━━━━\u001b[0m\u001b[37m\u001b[0m \u001b[1m0s\u001b[0m 35ms/step\n",
      "[0 0 1]\n"
     ]
    }
   ],
   "source": [
    "# Predict sentiment for new reviews\n",
    "new_reviews = [\"This movie was fantastic! I loved it.\", \"The plot was boring and predictable.\", \"The movie was alright. I didn't like the romance but the action was okay.\"]\n",
    "new_sequences = tokenizer.texts_to_sequences(new_reviews)\n",
    "new_padded_sequences = pad_sequences(new_sequences, maxlen=max_length)\n",
    "\n",
    "# Predict the sentiments\n",
    "predictions = model.predict(new_padded_sequences)\n",
    "predicted_labels = label_encoder.inverse_transform(predictions.argmax(axis=1))\n",
    "\n",
    "print(predicted_labels)"
   ]
  }
 ],
 "metadata": {
  "kernelspec": {
   "display_name": "Python 3 (ipykernel)",
   "language": "python",
   "name": "python3"
  },
  "language_info": {
   "codemirror_mode": {
    "name": "ipython",
    "version": 3
   },
   "file_extension": ".py",
   "mimetype": "text/x-python",
   "name": "python",
   "nbconvert_exporter": "python",
   "pygments_lexer": "ipython3",
   "version": "3.12.1"
  }
 },
 "nbformat": 4,
 "nbformat_minor": 5
}
