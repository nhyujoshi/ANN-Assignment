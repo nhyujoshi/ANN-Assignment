{
 "cells": [
  {
   "cell_type": "code",
   "execution_count": 1,
   "id": "ebf8b35c-aee1-4b46-a275-63cf0f57d9fd",
   "metadata": {},
   "outputs": [],
   "source": [
    "import numpy as np\n",
    "import pandas as pd\n",
    "from sklearn.model_selection import train_test_split\n",
    "from sklearn.preprocessing import LabelEncoder\n",
    "from tensorflow.keras.preprocessing.text import Tokenizer\n",
    "from tensorflow.keras.preprocessing.sequence import pad_sequences\n",
    "from tensorflow.keras.utils import to_categorical"
   ]
  },
  {
   "cell_type": "code",
   "execution_count": 2,
   "id": "f62633f7-81a7-461a-ae25-8e3758c1411a",
   "metadata": {},
   "outputs": [],
   "source": [
    "# Load the data\n",
    "train_df = pd.read_csv('/Masters/ANN/Assignment/IMDB Movie Review/train.tsv', sep='\\t')\n",
    "test_df = pd.read_csv('/Masters/ANN/Assignment/IMDB Movie Review/test.tsv', sep='\\t')"
   ]
  },
  {
   "cell_type": "code",
   "execution_count": 3,
   "id": "0b38b94b-dfde-47ad-b61e-3c4f8ad0cad4",
   "metadata": {},
   "outputs": [],
   "source": [
    "# Load stopwords\n",
    "with open('/Masters/ANN/Assignment/IMDB Movie Review/stopwords.txt', 'r') as f:\n",
    "    stopwords = set(f.read().splitlines())"
   ]
  },
  {
   "cell_type": "code",
   "execution_count": 4,
   "id": "7fe70d50-9085-4b44-94e5-0b2f17fff9f4",
   "metadata": {},
   "outputs": [
    {
     "name": "stderr",
     "output_type": "stream",
     "text": [
      "[nltk_data] Downloading package punkt to\n",
      "[nltk_data]     C:\\Users\\nhyuj\\AppData\\Roaming\\nltk_data...\n",
      "[nltk_data]   Package punkt is already up-to-date!\n",
      "[nltk_data] Downloading package wordnet to\n",
      "[nltk_data]     C:\\Users\\nhyuj\\AppData\\Roaming\\nltk_data...\n",
      "[nltk_data]   Package wordnet is already up-to-date!\n",
      "[nltk_data] Downloading package averaged_perceptron_tagger to\n",
      "[nltk_data]     C:\\Users\\nhyuj\\AppData\\Roaming\\nltk_data...\n",
      "[nltk_data]   Package averaged_perceptron_tagger is already up-to-\n",
      "[nltk_data]       date!\n"
     ]
    },
    {
     "data": {
      "text/plain": [
       "True"
      ]
     },
     "execution_count": 4,
     "metadata": {},
     "output_type": "execute_result"
    }
   ],
   "source": [
    "import nltk\n",
    "from nltk.corpus import wordnet\n",
    "from nltk.stem import WordNetLemmatizer\n",
    "from nltk.tokenize import word_tokenize\n",
    "import re\n",
    "\n",
    "# Download necessary NLTK data\n",
    "nltk.download('punkt')\n",
    "nltk.download('wordnet')\n",
    "nltk.download('averaged_perceptron_tagger')"
   ]
  },
  {
   "cell_type": "code",
   "execution_count": 5,
   "id": "1c5a96e6-bbba-4897-87d5-45cef45ab47d",
   "metadata": {},
   "outputs": [],
   "source": [
    "to_replace = {\n",
    "    \"don\\'t\": \"do not\",\n",
    "    \"dont\": \"do not\",\n",
    "    \"doesn\\'t\": \"does not\",\n",
    "    \"doesnt\": \"does not\",\n",
    "    \"didn\\'t\": \"did not\",\n",
    "    \"didnt\": \"did not\",\n",
    "    \"shouldn\\'t\": \"should not\",\n",
    "    \"shouldnt\": \"should not\",\n",
    "    \"mustn\\'t\": \"must not\",\n",
    "    \"mustnt\": \"must not\",\n",
    "    \"haven\\'t\": \"have not\",\n",
    "    \"hvn\\'t\": \"have not\",\n",
    "    \"havent\": \"have not\",\n",
    "    \"hadn\\'t\": \"had not\",\n",
    "    \"hadnt\": \"had not\",\n",
    "    \"can\\'t\": \"can not\",\n",
    "    \"cant\": \"can not\",\n",
    "    \"cannot\": \"can not\",\n",
    "    \"cann\\'t\": \"can not\",\n",
    "    \"couldn\\'t\": \"could not\",\n",
    "    \"couldnt\": \"could not\",\n",
    "    \"aren\\'t\": \"are not\",\n",
    "    \"arent\": \"are not\",\n",
    "    \"isn\\'t\": \"is not\",\n",
    "    \"isnt\": \"is not\",\n",
    "    \"wasn\\'t\": \"was not\",\n",
    "    \"wasnt\": \"was not\",\n",
    "    \"weren\\'t\": \"were not\",\n",
    "    \"werent\": \"were not\",\n",
    "    \"won\\'t\": \"will not\",\n",
    "    \"wont\": \"will not\",\n",
    "    \"wouldn\\'t\": \"would not\",\n",
    "    \"wouldnt\": \"would not\",\n",
    "}"
   ]
  },
  {
   "cell_type": "code",
   "execution_count": 6,
   "id": "922f33aa-2dcb-427c-a8e2-ef4042586447",
   "metadata": {},
   "outputs": [],
   "source": [
    "def replace_contractions(sentence, to_replace):\n",
    "    pattern = re.compile(r'\\b(' + '|'.join(to_replace.keys()) + r')\\b')\n",
    "    \n",
    "    return pattern.sub(lambda x: to_replace[x.group()], sentence)\n",
    "\n",
    "def decontracted(phrase):\n",
    "    phrase = re.sub(r\"\\'t\", \" not\", phrase)\n",
    "    phrase = re.sub(r\"\\'re\", \" are\", phrase)\n",
    "    phrase = re.sub(r\"\\'s\", \" is\", phrase)\n",
    "    phrase = re.sub(r\"\\'d\", \" would\", phrase)\n",
    "    phrase = re.sub(r\"\\'ll\", \" will\", phrase)\n",
    "    phrase = re.sub(r\"\\'ve\", \" have\", phrase)\n",
    "    phrase = re.sub(r\"\\'m\", \" am\", phrase)\n",
    "    return phrase"
   ]
  },
  {
   "cell_type": "code",
   "execution_count": 7,
   "id": "0b8016bb-eeeb-459c-8bb1-f89db4230f51",
   "metadata": {},
   "outputs": [],
   "source": [
    "# Initialize lemmatizer\n",
    "lemmatizer = WordNetLemmatizer()"
   ]
  },
  {
   "cell_type": "code",
   "execution_count": 8,
   "id": "2ae0f59b-914a-4756-b2fa-b9e85ceb4dd7",
   "metadata": {},
   "outputs": [],
   "source": [
    "# Function to get the part of speech tag for lemmatization\n",
    "def get_wordnet_pos(word):\n",
    "    tag = nltk.pos_tag([word])[0][1][0].upper()\n",
    "    tag_dict = {\n",
    "        'J': wordnet.ADJ,\n",
    "        'N': wordnet.NOUN,\n",
    "        'V': wordnet.VERB,\n",
    "        'R': wordnet.ADV\n",
    "    }\n",
    "    return tag_dict.get(tag, wordnet.NOUN)"
   ]
  },
  {
   "cell_type": "code",
   "execution_count": 9,
   "id": "06a81acf-8a2d-412f-a903-4dcd25f9ebff",
   "metadata": {},
   "outputs": [],
   "source": [
    "# Text preprocessing function\n",
    "def preprocess_text(text):\n",
    "    # Remove special characters and lowercase\n",
    "    text = text.lower()\n",
    "    text = replace_contractions(text, to_replace)\n",
    "    text = decontracted(text)\n",
    "    text = re.sub('[^a-zA-Z]', ' ', text)\n",
    "    text = re.sub(r'\\s+', ' ', text)\n",
    "    # Tokenize\n",
    "    words = word_tokenize(text)\n",
    "    # Remove stopwords and lemmatize\n",
    "    words = [lemmatizer.lemmatize(word, get_wordnet_pos(word)) for word in words if word not in stopwords]\n",
    "    return ' '.join(words)"
   ]
  },
  {
   "cell_type": "code",
   "execution_count": 10,
   "id": "09698909-b206-466b-9701-be720331ceb0",
   "metadata": {},
   "outputs": [
    {
     "name": "stdout",
     "output_type": "stream",
     "text": [
      "like make sense watch\n"
     ]
    }
   ],
   "source": [
    "example = \"I don't like this movie, it doesn't make sense. he won't watch it again in 2024 @ !\"\n",
    "print(preprocess_text(example))"
   ]
  },
  {
   "cell_type": "code",
   "execution_count": 11,
   "id": "cf63b313-2df5-4c2a-8251-d5f033d4d6ba",
   "metadata": {},
   "outputs": [
    {
     "name": "stderr",
     "output_type": "stream",
     "text": [
      "100%|████████████████████████████████████████████████████████████████████████████| 32745/32745 [18:11<00:00, 29.99it/s]\n",
      "100%|██████████████████████████████████████████████████████████████████████████████| 2681/2681 [01:04<00:00, 41.36it/s]\n"
     ]
    }
   ],
   "source": [
    "from tqdm import tqdm\n",
    "tqdm.pandas()\n",
    "\n",
    "# Apply preprocessing\n",
    "train_df['cleaned_review'] = train_df['review'].progress_apply(preprocess_text)\n",
    "test_df['cleaned_review'] = test_df['review'].progress_apply(preprocess_text)"
   ]
  },
  {
   "cell_type": "code",
   "execution_count": 12,
   "id": "ba6ee5ce-f7b9-4166-82ea-4e008b66a02c",
   "metadata": {},
   "outputs": [
    {
     "data": {
      "text/html": [
       "<div>\n",
       "<style scoped>\n",
       "    .dataframe tbody tr th:only-of-type {\n",
       "        vertical-align: middle;\n",
       "    }\n",
       "\n",
       "    .dataframe tbody tr th {\n",
       "        vertical-align: top;\n",
       "    }\n",
       "\n",
       "    .dataframe thead th {\n",
       "        text-align: right;\n",
       "    }\n",
       "</style>\n",
       "<table border=\"1\" class=\"dataframe\">\n",
       "  <thead>\n",
       "    <tr style=\"text-align: right;\">\n",
       "      <th></th>\n",
       "      <th>sentiment</th>\n",
       "      <th>review</th>\n",
       "      <th>cleaned_review</th>\n",
       "    </tr>\n",
       "  </thead>\n",
       "  <tbody>\n",
       "    <tr>\n",
       "      <th>0</th>\n",
       "      <td>1</td>\n",
       "      <td>But it's really slow to catch on . For me a mo...</td>\n",
       "      <td>really slow catch like rocket ain fast enough ...</td>\n",
       "    </tr>\n",
       "    <tr>\n",
       "      <th>1</th>\n",
       "      <td>1</td>\n",
       "      <td>To me, it's controversial how this movie has s...</td>\n",
       "      <td>controversial high rating praise understandabl...</td>\n",
       "    </tr>\n",
       "    <tr>\n",
       "      <th>2</th>\n",
       "      <td>1</td>\n",
       "      <td>The movie is a tricky and the story is good, b...</td>\n",
       "      <td>tricky story good actor do great act</td>\n",
       "    </tr>\n",
       "    <tr>\n",
       "      <th>3</th>\n",
       "      <td>0</td>\n",
       "      <td>I can not believe that this movie received all...</td>\n",
       "      <td>believe receive award long slow move predictab...</td>\n",
       "    </tr>\n",
       "    <tr>\n",
       "      <th>4</th>\n",
       "      <td>2</td>\n",
       "      <td>Usually the debate is wether godfather or Good...</td>\n",
       "      <td>usually debate wether godfather goodfellas wel...</td>\n",
       "    </tr>\n",
       "  </tbody>\n",
       "</table>\n",
       "</div>"
      ],
      "text/plain": [
       "   sentiment                                             review  \\\n",
       "0          1  But it's really slow to catch on . For me a mo...   \n",
       "1          1  To me, it's controversial how this movie has s...   \n",
       "2          1  The movie is a tricky and the story is good, b...   \n",
       "3          0  I can not believe that this movie received all...   \n",
       "4          2  Usually the debate is wether godfather or Good...   \n",
       "\n",
       "                                      cleaned_review  \n",
       "0  really slow catch like rocket ain fast enough ...  \n",
       "1  controversial high rating praise understandabl...  \n",
       "2               tricky story good actor do great act  \n",
       "3  believe receive award long slow move predictab...  \n",
       "4  usually debate wether godfather goodfellas wel...  "
      ]
     },
     "execution_count": 12,
     "metadata": {},
     "output_type": "execute_result"
    }
   ],
   "source": [
    "train_df.head()"
   ]
  },
  {
   "cell_type": "code",
   "execution_count": 13,
   "id": "56c0029a-98a4-45e2-86ae-a415aaf0ed1c",
   "metadata": {},
   "outputs": [],
   "source": [
    "# Tokenize the cleaned reviews\n",
    "tokenizer = Tokenizer(num_words=10000)  # Use the top 10000 words\n",
    "tokenizer.fit_on_texts(train_df['cleaned_review'])\n",
    "\n",
    "# Convert text to sequences\n",
    "train_sequences = tokenizer.texts_to_sequences(train_df['cleaned_review'])\n",
    "test_sequences = tokenizer.texts_to_sequences(test_df['cleaned_review'])"
   ]
  },
  {
   "cell_type": "code",
   "execution_count": 14,
   "id": "eb6f69d6-ab83-406f-9855-c61ebd8cff0a",
   "metadata": {},
   "outputs": [
    {
     "data": {
      "image/png": "[encoded data removed]",
      "text/plain": [
       "<Figure size 640x480 with 1 Axes>"
      ]
     },
     "metadata": {},
     "output_type": "display_data"
    }
   ],
   "source": [
    "import matplotlib.pyplot as plt\n",
    "\n",
    "# Calculate the length of each sequence\n",
    "sequence_lengths = [len(seq) for seq in train_sequences]\n",
    "\n",
    "# Plot the distribution of sequence lengths\n",
    "plt.hist(sequence_lengths, bins=50, range=(0, 500))\n",
    "plt.title('Distribution of Sequence Lengths')\n",
    "plt.xlabel('Sequence Length')\n",
    "plt.ylabel('Frequency')\n",
    "plt.show()"
   ]
  },
  {
   "cell_type": "code",
   "execution_count": 15,
   "id": "76ec950f-ef5c-409d-84cc-96f770cbc36a",
   "metadata": {},
   "outputs": [
    {
     "name": "stdout",
     "output_type": "stream",
     "text": [
      "95th percentile of sequence lengths: 318\n"
     ]
    }
   ],
   "source": [
    "# Calculate the 95th percentile\n",
    "max_length_95 = int(np.percentile(sequence_lengths, 95))\n",
    "\n",
    "print(f'95th percentile of sequence lengths: {max_length_95}')"
   ]
  },
  {
   "cell_type": "code",
   "execution_count": 16,
   "id": "7c0f3f3c-5237-40c6-b2d3-cdae9a924391",
   "metadata": {},
   "outputs": [],
   "source": [
    "# Define maximum sequence length\n",
    "max_length = 200\n",
    "\n",
    "# Pad the sequences to ensure uniform length\n",
    "X_train = pad_sequences(train_sequences, maxlen=max_length)\n",
    "X_test = pad_sequences(test_sequences, maxlen=max_length)"
   ]
  },
  {
   "cell_type": "code",
   "execution_count": 17,
   "id": "0e72a341-005a-460d-9488-d8bb582c5d35",
   "metadata": {},
   "outputs": [],
   "source": [
    "# Encode sentiment labels to integers\n",
    "label_encoder = LabelEncoder()\n",
    "y_train = label_encoder.fit_transform(train_df['sentiment'])\n",
    "y_test = label_encoder.transform(test_df['sentiment'])\n",
    "\n",
    "# One-hot encode the labels\n",
    "y_train = to_categorical(y_train, num_classes=3)\n",
    "y_test = to_categorical(y_test, num_classes=3)"
   ]
  },
  {
   "cell_type": "code",
   "execution_count": 30,
   "id": "f48ad52a-e410-45ff-b750-c1498e85ed43",
   "metadata": {},
   "outputs": [],
   "source": [
    "# Load GloVe embeddings\n",
    "embedding_index = {}\n",
    "with open('glove.6B.100d.txt', 'r', encoding='utf-8') as f:\n",
    "    for line in f:\n",
    "        values = line.split()\n",
    "        word = values[0]\n",
    "        coefs = np.asarray(values[1:], dtype='float32')\n",
    "        embedding_index[word] = coefs\n",
    "\n",
    "# Prepare embedding matrix\n",
    "embedding_dim = 100\n",
    "word_index = tokenizer.word_index\n",
    "num_words = min(len(word_index) + 1, 10000)\n",
    "embedding_matrix = np.zeros((num_words, embedding_dim))\n",
    "\n",
    "for word, i in word_index.items():\n",
    "    if i >= 10000:\n",
    "        continue\n",
    "    embedding_vector = embedding_index.get(word)\n",
    "    if embedding_vector is not None:\n",
    "        embedding_matrix[i] = embedding_vector\n",
    "\n",
    "from tensorflow.keras.models import Sequential\n",
    "from tensorflow.keras.layers import Embedding, LSTM, Dense, Dropout\n",
    "from tensorflow.keras.optimizers import Adam\n",
    "\n",
    "# Define the model\n",
    "model = Sequential([\n",
    "    Embedding(input_dim=num_words, \n",
    "              output_dim=embedding_dim,  \n",
    "              weights=[embedding_matrix], \n",
    "              trainable=False),\n",
    "    LSTM(32,  return_sequences=True),\n",
    "    Dropout(0.6),\n",
    "    LSTM(16),\n",
    "    Dropout(0.6),\n",
    "    Dense(3, activation='softmax')\n",
    "])\n",
    "\n",
    "# Compile the model\n",
    "model.compile(loss='categorical_crossentropy', optimizer=Adam(learning_rate=0.001), metrics=['accuracy'])"
   ]
  },
  {
   "cell_type": "code",
   "execution_count": 31,
   "id": "971a8b6d-a012-4f83-8c32-b2875a8f771c",
   "metadata": {},
   "outputs": [
    {
     "name": "stdout",
     "output_type": "stream",
     "text": [
      "Epoch 1/50\n",
      "\u001b[1m410/410\u001b[0m \u001b[32m━━━━━━━━━━━━━━━━━━━━\u001b[0m\u001b[37m\u001b[0m \u001b[1m42s\u001b[0m 95ms/step - accuracy: 0.4266 - loss: 1.0535 - val_accuracy: 0.5593 - val_loss: 0.9151\n",
      "Epoch 2/50\n",
      "\u001b[1m410/410\u001b[0m \u001b[32m━━━━━━━━━━━━━━━━━━━━\u001b[0m\u001b[37m\u001b[0m \u001b[1m38s\u001b[0m 93ms/step - accuracy: 0.5547 - loss: 0.9353 - val_accuracy: 0.5886 - val_loss: 0.8785\n",
      "Epoch 3/50\n",
      "\u001b[1m410/410\u001b[0m \u001b[32m━━━━━━━━━━━━━━━━━━━━\u001b[0m\u001b[37m\u001b[0m \u001b[1m38s\u001b[0m 94ms/step - accuracy: 0.5790 - loss: 0.8937 - val_accuracy: 0.5909 - val_loss: 0.8707\n",
      "Epoch 4/50\n",
      "\u001b[1m410/410\u001b[0m \u001b[32m━━━━━━━━━━━━━━━━━━━━\u001b[0m\u001b[37m\u001b[0m \u001b[1m38s\u001b[0m 93ms/step - accuracy: 0.5961 - loss: 0.8667 - val_accuracy: 0.6143 - val_loss: 0.8380\n",
      "Epoch 5/50\n",
      "\u001b[1m410/410\u001b[0m \u001b[32m━━━━━━━━━━━━━━━━━━━━\u001b[0m\u001b[37m\u001b[0m \u001b[1m42s\u001b[0m 102ms/step - accuracy: 0.6100 - loss: 0.8537 - val_accuracy: 0.6157 - val_loss: 0.8296\n",
      "Epoch 6/50\n",
      "\u001b[1m410/410\u001b[0m \u001b[32m━━━━━━━━━━━━━━━━━━━━\u001b[0m\u001b[37m\u001b[0m \u001b[1m47s\u001b[0m 115ms/step - accuracy: 0.6190 - loss: 0.8373 - val_accuracy: 0.6064 - val_loss: 0.8341\n",
      "Epoch 7/50\n",
      "\u001b[1m410/410\u001b[0m \u001b[32m━━━━━━━━━━━━━━━━━━━━\u001b[0m\u001b[37m\u001b[0m \u001b[1m48s\u001b[0m 117ms/step - accuracy: 0.6286 - loss: 0.8195 - val_accuracy: 0.6122 - val_loss: 0.8155\n",
      "Epoch 8/50\n",
      "\u001b[1m410/410\u001b[0m \u001b[32m━━━━━━━━━━━━━━━━━━━━\u001b[0m\u001b[37m\u001b[0m \u001b[1m46s\u001b[0m 111ms/step - accuracy: 0.6329 - loss: 0.8029 - val_accuracy: 0.6169 - val_loss: 0.8220\n",
      "Epoch 9/50\n",
      "\u001b[1m410/410\u001b[0m \u001b[32m━━━━━━━━━━━━━━━━━━━━\u001b[0m\u001b[37m\u001b[0m \u001b[1m49s\u001b[0m 119ms/step - accuracy: 0.6360 - loss: 0.8069 - val_accuracy: 0.6250 - val_loss: 0.8049\n",
      "Epoch 10/50\n",
      "\u001b[1m410/410\u001b[0m \u001b[32m━━━━━━━━━━━━━━━━━━━━\u001b[0m\u001b[37m\u001b[0m \u001b[1m47s\u001b[0m 114ms/step - accuracy: 0.6445 - loss: 0.7865 - val_accuracy: 0.6143 - val_loss: 0.8349\n",
      "Epoch 11/50\n",
      "\u001b[1m410/410\u001b[0m \u001b[32m━━━━━━━━━━━━━━━━━━━━\u001b[0m\u001b[37m\u001b[0m \u001b[1m42s\u001b[0m 103ms/step - accuracy: 0.6423 - loss: 0.7906 - val_accuracy: 0.6224 - val_loss: 0.8041\n",
      "Epoch 12/50\n",
      "\u001b[1m410/410\u001b[0m \u001b[32m━━━━━━━━━━━━━━━━━━━━\u001b[0m\u001b[37m\u001b[0m \u001b[1m44s\u001b[0m 108ms/step - accuracy: 0.6504 - loss: 0.7805 - val_accuracy: 0.6282 - val_loss: 0.8205\n",
      "Epoch 13/50\n",
      "\u001b[1m410/410\u001b[0m \u001b[32m━━━━━━━━━━━━━━━━━━━━\u001b[0m\u001b[37m\u001b[0m \u001b[1m46s\u001b[0m 113ms/step - accuracy: 0.6509 - loss: 0.7719 - val_accuracy: 0.6314 - val_loss: 0.8136\n",
      "Epoch 14/50\n",
      "\u001b[1m410/410\u001b[0m \u001b[32m━━━━━━━━━━━━━━━━━━━━\u001b[0m\u001b[37m\u001b[0m \u001b[1m45s\u001b[0m 109ms/step - accuracy: 0.6576 - loss: 0.7638 - val_accuracy: 0.6312 - val_loss: 0.8034\n",
      "Epoch 15/50\n",
      "\u001b[1m410/410\u001b[0m \u001b[32m━━━━━━━━━━━━━━━━━━━━\u001b[0m\u001b[37m\u001b[0m \u001b[1m43s\u001b[0m 105ms/step - accuracy: 0.6637 - loss: 0.7516 - val_accuracy: 0.6245 - val_loss: 0.8261\n",
      "Epoch 16/50\n",
      "\u001b[1m410/410\u001b[0m \u001b[32m━━━━━━━━━━━━━━━━━━━━\u001b[0m\u001b[37m\u001b[0m \u001b[1m48s\u001b[0m 116ms/step - accuracy: 0.6721 - loss: 0.7415 - val_accuracy: 0.6360 - val_loss: 0.8004\n",
      "Epoch 17/50\n",
      "\u001b[1m410/410\u001b[0m \u001b[32m━━━━━━━━━━━━━━━━━━━━\u001b[0m\u001b[37m\u001b[0m \u001b[1m45s\u001b[0m 110ms/step - accuracy: 0.6697 - loss: 0.7387 - val_accuracy: 0.6338 - val_loss: 0.7971\n",
      "Epoch 18/50\n",
      "\u001b[1m410/410\u001b[0m \u001b[32m━━━━━━━━━━━━━━━━━━━━\u001b[0m\u001b[37m\u001b[0m \u001b[1m45s\u001b[0m 110ms/step - accuracy: 0.6757 - loss: 0.7317 - val_accuracy: 0.6051 - val_loss: 0.8329\n",
      "Epoch 19/50\n",
      "\u001b[1m410/410\u001b[0m \u001b[32m━━━━━━━━━━━━━━━━━━━━\u001b[0m\u001b[37m\u001b[0m \u001b[1m43s\u001b[0m 104ms/step - accuracy: 0.6846 - loss: 0.7217 - val_accuracy: 0.6256 - val_loss: 0.8153\n",
      "Epoch 20/50\n",
      "\u001b[1m410/410\u001b[0m \u001b[32m━━━━━━━━━━━━━━━━━━━━\u001b[0m\u001b[37m\u001b[0m \u001b[1m43s\u001b[0m 105ms/step - accuracy: 0.6809 - loss: 0.7150 - val_accuracy: 0.6181 - val_loss: 0.8357\n",
      "Epoch 21/50\n",
      "\u001b[1m410/410\u001b[0m \u001b[32m━━━━━━━━━━━━━━━━━━━━\u001b[0m\u001b[37m\u001b[0m \u001b[1m47s\u001b[0m 114ms/step - accuracy: 0.6815 - loss: 0.7154 - val_accuracy: 0.6291 - val_loss: 0.8211\n",
      "Epoch 22/50\n",
      "\u001b[1m410/410\u001b[0m \u001b[32m━━━━━━━━━━━━━━━━━━━━\u001b[0m\u001b[37m\u001b[0m \u001b[1m48s\u001b[0m 117ms/step - accuracy: 0.6812 - loss: 0.7205 - val_accuracy: 0.6195 - val_loss: 0.8333\n",
      "Epoch 23/50\n",
      "\u001b[1m410/410\u001b[0m \u001b[32m━━━━━━━━━━━━━━━━━━━━\u001b[0m\u001b[37m\u001b[0m \u001b[1m46s\u001b[0m 111ms/step - accuracy: 0.6975 - loss: 0.6929 - val_accuracy: 0.6312 - val_loss: 0.8104\n",
      "Epoch 24/50\n",
      "\u001b[1m410/410\u001b[0m \u001b[32m━━━━━━━━━━━━━━━━━━━━\u001b[0m\u001b[37m\u001b[0m \u001b[1m44s\u001b[0m 108ms/step - accuracy: 0.6958 - loss: 0.6945 - val_accuracy: 0.6251 - val_loss: 0.8157\n",
      "Epoch 25/50\n",
      "\u001b[1m410/410\u001b[0m \u001b[32m━━━━━━━━━━━━━━━━━━━━\u001b[0m\u001b[37m\u001b[0m \u001b[1m48s\u001b[0m 117ms/step - accuracy: 0.6962 - loss: 0.6882 - val_accuracy: 0.6360 - val_loss: 0.8367\n",
      "Epoch 26/50\n",
      "\u001b[1m410/410\u001b[0m \u001b[32m━━━━━━━━━━━━━━━━━━━━\u001b[0m\u001b[37m\u001b[0m \u001b[1m45s\u001b[0m 110ms/step - accuracy: 0.7041 - loss: 0.6770 - val_accuracy: 0.6276 - val_loss: 0.8916\n",
      "Epoch 27/50\n",
      "\u001b[1m410/410\u001b[0m \u001b[32m━━━━━━━━━━━━━━━━━━━━\u001b[0m\u001b[37m\u001b[0m \u001b[1m45s\u001b[0m 109ms/step - accuracy: 0.7066 - loss: 0.6758 - val_accuracy: 0.6344 - val_loss: 0.8674\n",
      "Epoch 28/50\n",
      "\u001b[1m410/410\u001b[0m \u001b[32m━━━━━━━━━━━━━━━━━━━━\u001b[0m\u001b[37m\u001b[0m \u001b[1m49s\u001b[0m 119ms/step - accuracy: 0.7033 - loss: 0.6824 - val_accuracy: 0.6265 - val_loss: 0.8622\n",
      "Epoch 29/50\n",
      "\u001b[1m410/410\u001b[0m \u001b[32m━━━━━━━━━━━━━━━━━━━━\u001b[0m\u001b[37m\u001b[0m \u001b[1m46s\u001b[0m 113ms/step - accuracy: 0.7074 - loss: 0.6700 - val_accuracy: 0.6236 - val_loss: 0.8542\n",
      "Epoch 30/50\n",
      "\u001b[1m410/410\u001b[0m \u001b[32m━━━━━━━━━━━━━━━━━━━━\u001b[0m\u001b[37m\u001b[0m \u001b[1m42s\u001b[0m 103ms/step - accuracy: 0.7162 - loss: 0.6587 - val_accuracy: 0.6236 - val_loss: 0.8353\n",
      "Epoch 31/50\n",
      "\u001b[1m410/410\u001b[0m \u001b[32m━━━━━━━━━━━━━━━━━━━━\u001b[0m\u001b[37m\u001b[0m \u001b[1m41s\u001b[0m 101ms/step - accuracy: 0.7137 - loss: 0.6548 - val_accuracy: 0.6286 - val_loss: 0.8898\n",
      "Epoch 32/50\n",
      "\u001b[1m410/410\u001b[0m \u001b[32m━━━━━━━━━━━━━━━━━━━━\u001b[0m\u001b[37m\u001b[0m \u001b[1m40s\u001b[0m 97ms/step - accuracy: 0.7169 - loss: 0.6497 - val_accuracy: 0.6222 - val_loss: 0.8787\n",
      "Epoch 33/50\n",
      "\u001b[1m410/410\u001b[0m \u001b[32m━━━━━━━━━━━━━━━━━━━━\u001b[0m\u001b[37m\u001b[0m \u001b[1m42s\u001b[0m 102ms/step - accuracy: 0.7202 - loss: 0.6492 - val_accuracy: 0.6270 - val_loss: 0.8988\n",
      "Epoch 34/50\n",
      "\u001b[1m410/410\u001b[0m \u001b[32m━━━━━━━━━━━━━━━━━━━━\u001b[0m\u001b[37m\u001b[0m \u001b[1m43s\u001b[0m 104ms/step - accuracy: 0.7140 - loss: 0.6521 - val_accuracy: 0.6114 - val_loss: 0.8552\n",
      "Epoch 35/50\n",
      "\u001b[1m410/410\u001b[0m \u001b[32m━━━━━━━━━━━━━━━━━━━━\u001b[0m\u001b[37m\u001b[0m \u001b[1m40s\u001b[0m 98ms/step - accuracy: 0.7230 - loss: 0.6383 - val_accuracy: 0.6210 - val_loss: 0.9071\n",
      "Epoch 36/50\n",
      "\u001b[1m410/410\u001b[0m \u001b[32m━━━━━━━━━━━━━━━━━━━━\u001b[0m\u001b[37m\u001b[0m \u001b[1m41s\u001b[0m 101ms/step - accuracy: 0.7213 - loss: 0.6307 - val_accuracy: 0.6210 - val_loss: 0.9099\n",
      "Epoch 37/50\n",
      "\u001b[1m410/410\u001b[0m \u001b[32m━━━━━━━━━━━━━━━━━━━━\u001b[0m\u001b[37m\u001b[0m \u001b[1m42s\u001b[0m 102ms/step - accuracy: 0.7314 - loss: 0.6182 - val_accuracy: 0.6196 - val_loss: 0.9134\n",
      "Epoch 38/50\n",
      "\u001b[1m410/410\u001b[0m \u001b[32m━━━━━━━━━━━━━━━━━━━━\u001b[0m\u001b[37m\u001b[0m \u001b[1m49s\u001b[0m 118ms/step - accuracy: 0.7316 - loss: 0.6191 - val_accuracy: 0.6192 - val_loss: 0.9402\n",
      "Epoch 39/50\n",
      "\u001b[1m410/410\u001b[0m \u001b[32m━━━━━━━━━━━━━━━━━━━━\u001b[0m\u001b[37m\u001b[0m \u001b[1m43s\u001b[0m 106ms/step - accuracy: 0.7319 - loss: 0.6194 - val_accuracy: 0.6190 - val_loss: 0.9252\n",
      "Epoch 40/50\n",
      "\u001b[1m410/410\u001b[0m \u001b[32m━━━━━━━━━━━━━━━━━━━━\u001b[0m\u001b[37m\u001b[0m \u001b[1m43s\u001b[0m 105ms/step - accuracy: 0.7363 - loss: 0.6183 - val_accuracy: 0.6152 - val_loss: 0.9197\n",
      "Epoch 41/50\n",
      "\u001b[1m410/410\u001b[0m \u001b[32m━━━━━━━━━━━━━━━━━━━━\u001b[0m\u001b[37m\u001b[0m \u001b[1m43s\u001b[0m 106ms/step - accuracy: 0.7417 - loss: 0.5995 - val_accuracy: 0.6057 - val_loss: 0.9994\n",
      "Epoch 42/50\n",
      "\u001b[1m410/410\u001b[0m \u001b[32m━━━━━━━━━━━━━━━━━━━━\u001b[0m\u001b[37m\u001b[0m \u001b[1m45s\u001b[0m 109ms/step - accuracy: 0.7362 - loss: 0.6106 - val_accuracy: 0.6175 - val_loss: 0.9792\n",
      "Epoch 43/50\n",
      "\u001b[1m410/410\u001b[0m \u001b[32m━━━━━━━━━━━━━━━━━━━━\u001b[0m\u001b[37m\u001b[0m \u001b[1m41s\u001b[0m 100ms/step - accuracy: 0.7478 - loss: 0.5956 - val_accuracy: 0.6102 - val_loss: 0.9753\n",
      "Epoch 44/50\n",
      "\u001b[1m410/410\u001b[0m \u001b[32m━━━━━━━━━━━━━━━━━━━━\u001b[0m\u001b[37m\u001b[0m \u001b[1m44s\u001b[0m 107ms/step - accuracy: 0.7496 - loss: 0.5904 - val_accuracy: 0.6083 - val_loss: 0.9079\n",
      "Epoch 45/50\n",
      "\u001b[1m410/410\u001b[0m \u001b[32m━━━━━━━━━━━━━━━━━━━━\u001b[0m\u001b[37m\u001b[0m \u001b[1m49s\u001b[0m 118ms/step - accuracy: 0.7402 - loss: 0.5988 - val_accuracy: 0.6123 - val_loss: 1.0471\n",
      "Epoch 46/50\n",
      "\u001b[1m410/410\u001b[0m \u001b[32m━━━━━━━━━━━━━━━━━━━━\u001b[0m\u001b[37m\u001b[0m \u001b[1m43s\u001b[0m 105ms/step - accuracy: 0.7544 - loss: 0.5839 - val_accuracy: 0.6111 - val_loss: 0.9489\n",
      "Epoch 47/50\n",
      "\u001b[1m410/410\u001b[0m \u001b[32m━━━━━━━━━━━━━━━━━━━━\u001b[0m\u001b[37m\u001b[0m \u001b[1m41s\u001b[0m 99ms/step - accuracy: 0.7477 - loss: 0.5842 - val_accuracy: 0.6126 - val_loss: 1.0170\n",
      "Epoch 48/50\n",
      "\u001b[1m410/410\u001b[0m \u001b[32m━━━━━━━━━━━━━━━━━━━━\u001b[0m\u001b[37m\u001b[0m \u001b[1m45s\u001b[0m 109ms/step - accuracy: 0.7513 - loss: 0.5807 - val_accuracy: 0.6173 - val_loss: 1.0321\n",
      "Epoch 49/50\n",
      "\u001b[1m410/410\u001b[0m \u001b[32m━━━━━━━━━━━━━━━━━━━━\u001b[0m\u001b[37m\u001b[0m \u001b[1m44s\u001b[0m 107ms/step - accuracy: 0.7588 - loss: 0.5663 - val_accuracy: 0.6030 - val_loss: 1.0130\n",
      "Epoch 50/50\n",
      "\u001b[1m410/410\u001b[0m \u001b[32m━━━━━━━━━━━━━━━━━━━━\u001b[0m\u001b[37m\u001b[0m \u001b[1m45s\u001b[0m 109ms/step - accuracy: 0.7570 - loss: 0.5687 - val_accuracy: 0.6041 - val_loss: 1.0723\n"
     ]
    }
   ],
   "source": [
    "# Train the model\n",
    "history = model.fit(X_train, y_train, epochs=50, batch_size=64, validation_split=0.2)"
   ]
  },
  {
   "cell_type": "code",
   "execution_count": 32,
   "id": "71b8909a-3616-4a2e-bf1e-e09b81ab1632",
   "metadata": {},
   "outputs": [
    {
     "name": "stdout",
     "output_type": "stream",
     "text": [
      "\u001b[1m84/84\u001b[0m \u001b[32m━━━━━━━━━━━━━━━━━━━━\u001b[0m\u001b[37m\u001b[0m \u001b[1m2s\u001b[0m 25ms/step - accuracy: 0.5512 - loss: 1.2747\n",
      "Test Accuracy: 0.5435\n"
     ]
    }
   ],
   "source": [
    "# Evaluate the model\n",
    "test_loss, test_acc = model.evaluate(X_test, y_test)\n",
    "print(f'Test Accuracy: {test_acc:.4f}')"
   ]
  },
  {
   "cell_type": "code",
   "execution_count": 33,
   "id": "c912de8d-4717-4a11-bf1e-6c6a049b824e",
   "metadata": {},
   "outputs": [
    {
     "data": {
      "image/png": "[encoded data removed]",
      "text/plain": [
       "<Figure size 1200x500 with 2 Axes>"
      ]
     },
     "metadata": {},
     "output_type": "display_data"
    }
   ],
   "source": [
    "# Extract loss and accuracy from history object\n",
    "train_loss = history.history['loss']\n",
    "val_loss = history.history['val_loss']\n",
    "train_accuracy = history.history['accuracy']\n",
    "val_accuracy = history.history['val_accuracy']\n",
    "\n",
    "# Plot training & validation loss\n",
    "plt.figure(figsize=(12, 5))\n",
    "\n",
    "plt.subplot(1, 2, 1)\n",
    "plt.plot(train_loss, label='Train Loss')\n",
    "plt.plot(val_loss, label='Validation Loss')\n",
    "plt.title('Training and Validation Loss')\n",
    "plt.xlabel('Epochs')\n",
    "plt.ylabel('Loss')\n",
    "plt.legend()\n",
    "\n",
    "# Plot training & validation accuracy\n",
    "plt.subplot(1, 2, 2)\n",
    "plt.plot(train_accuracy, label='Train Accuracy')\n",
    "plt.plot(val_accuracy, label='Validation Accuracy')\n",
    "plt.title('Training and Validation Accuracy')\n",
    "plt.xlabel('Epochs')\n",
    "plt.ylabel('Accuracy')\n",
    "plt.legend()\n",
    "\n",
    "plt.show()"
   ]
  },
  {
   "cell_type": "code",
   "execution_count": 34,
   "id": "1f0068a3-95d3-4125-9acd-c837aefb2c65",
   "metadata": {},
   "outputs": [
    {
     "name": "stdout",
     "output_type": "stream",
     "text": [
      "\u001b[1m1/1\u001b[0m \u001b[32m━━━━━━━━━━━━━━━━━━━━\u001b[0m\u001b[37m\u001b[0m \u001b[1m0s\u001b[0m 280ms/step\n",
      "[2 0 1]\n"
     ]
    }
   ],
   "source": [
    "# Predict sentiment for new reviews\n",
    "new_reviews = [\"This movie was fantastic! I loved it.\", \"The plot was boring and predictable.\", \"The movie was alright. I didn't like the romance but the action was okay.\"]\n",
    "new_sequences = tokenizer.texts_to_sequences(new_reviews)\n",
    "new_padded_sequences = pad_sequences(new_sequences, maxlen=max_length)\n",
    "\n",
    "# Predict the sentiments\n",
    "predictions = model.predict(new_padded_sequences)\n",
    "predicted_labels = label_encoder.inverse_transform(predictions.argmax(axis=1))\n",
    "\n",
    "print(predicted_labels)"
   ]
  }
 ],
 "metadata": {
  "kernelspec": {
   "display_name": "Python 3 (ipykernel)",
   "language": "python",
   "name": "python3"
  },
  "language_info": {
   "codemirror_mode": {
    "name": "ipython",
    "version": 3
   },
   "file_extension": ".py",
   "mimetype": "text/x-python",
   "name": "python",
   "nbconvert_exporter": "python",
   "pygments_lexer": "ipython3",
   "version": "3.12.1"
  }
 },
 "nbformat": 4,
 "nbformat_minor": 5
}
